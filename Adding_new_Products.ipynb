{
 "cells": [
  {
   "cell_type": "code",
   "execution_count": 90,
   "id": "b21d82d4",
   "metadata": {},
   "outputs": [
    {
     "data": {
      "text/plain": [
       "'{\"1001\": {\"name\": \"Choco Cake\", \"pr\": 200, \"qn\": 100,  \"e_date\": \"01/09/2021\"}, \"1002\": {\"name\": \"Milk Cake\", \"pr\": 800, \"qn\":100, \"e_date\": \"01/09/2021\"}, \"1003\": {\"name\": \"Drink\", \"pr\": 100, \"qn\": 100,  \"e_date\": \"01/09/2021\"}, \"1004\": {\"name\": \"Candy\", \"pr\": 20, \"qn\": 1000, \"e_date\": \"01/09/2021\"}, \"1005\": {\"name\": \"Laptop\", \"pr\": 50000, \"qn\": 100, \"e_date\": \"01/09/2021\"}, \"1006\": {\"name\": \"Phone\", \"pr\": 50000, \"qn\": 100, \"e_date\":\"01/09/2021\"}, \"1007\":{\"name\": \"Mic\", \"pr\": 1500, \"qn\": 50, \"e_date\": \"01/09/2021\"}, \"1008\": {\"name\": \"Case\", \"pr\": 599, \"qn\": 50, \"e_date\": \"01/09/2021\"}, \"1009\": {\"name\": \"Keyboard\", \"pr\": 1999, \"qn\": 10,\"e_date\": \"01/09/2021\"}, \"1010\": {\"name\": \"Camera\", \"pr\": 10000, \"qn\": 100, \"e_date\": \"01/09/2021\"}, \"1011\": {\"name\": \"Dairy\", \"pr\": 100, \"qn\": 100, \"e_date\": \"01/09/2021\"}, \"1012\": {\"name\": \"Notebook\", \"pr\": 100, \"qn\": 100, \"e_date\": \"01/09/2021\"}, \"1013\": {\"name\": \"Bag\", \"pr\": 500, \"qn\": 100, \"e_date\": \"01/09/2021\"}, \"1014\": {\"name\": \"Pen\", \"pr\": 20, \"qn\": 100, \"e_date\": \"01/09/2021\"}, \"1015\": {\"name\": \"Paint\", \"pr\": 200, \"qn\": 100, \"e_date\": \"01/09/2021\"}, \"1016\": {\"name\": \"Brush\", \"pr\": 50, \"qn\": 100, \"e_date\": \"01/09/2021\"}, \"1017\": {\"name\": \"Headset\", \"pr\": 1500, \"qn\": 100, \"e_date\": \"01/09/2021\"}, \"1018\": {\"name\": \"Almonds\", \"pr\": 599, \"qn\": 10, \"e_date\": \"01/09/2021\"}, \"1019\": {\"name\": \"Cashew\", \"pr\": 1999, \"qn\": 10, \"e_date\": \"01/09/2021\"}, \"1020\": {\"name\": \"Peanuts\", \"pr\": 1999, \"qn\": 10, \"e_date\": \"01/09/2021\"}, \"1021\": {\"name\": \"Balloon \", \"pr\": 100, \"qn\": 100, \"e_date\": \"01/09/2021\"}, \"1022\": {\"name\": \"Novel\", \"pr\": 500, \"qn\": 100, \"e_date\": \"01/09/2021\"}, \"1023\": {\"name\": \"Sweets\", \"pr\": 500, \"qn\": 100, \"e_date\": \"01/09/2021\"}, \"1024\": {\"name\": \"Deo\", \"pr\": 200, \"qn\": 100, \"e_date\": \"01/09/2021\"}, \"1025\": {\"name\": \"Table\", \"pr\": 2000, \"qn\":100,\"e_date\": \"01/09/2021\"}, \"1026\": {\"name\": \"Chairs\", \"pr\": 500, \"qn\": 100, \"e_date\": \"01/09/2021\"}, \"1027\": {\"name\": \"Bottle\", \"pr\": 150, \"qn\": 100,\"e_date\": \"01/09/2021\"}, \"1028\": {\"name\": \"Basket\", \"pr\": 199, \"qn\": 100,\"e_date\": \"01/09/2021\"}, \"1029\": {\"name\": \"Mask\", \"pr\": 100, \"qn\": 100,\"e_date\": \"01/09/2021\"}, \"1030\": {\"name\": \"Rope\", \"pr\": 199, \"qn\": 98, \"e_date\": \"01/09/2021\"}}'"
      ]
     },
     "execution_count": 90,
     "metadata": {},
     "output_type": "execute_result"
    }
   ],
   "source": [
    "import json\n",
    "fd = open(\"data.json\",'r')\n",
    "fd.read()\n"
   ]
  },
  {
   "cell_type": "code",
   "execution_count": 91,
   "id": "188e5bae",
   "metadata": {},
   "outputs": [],
   "source": [
    "\n",
    "fd = open(\"data.json\",'r')\n",
    "r = fd.read()\n",
    "fd.close()\n",
    "\n",
    "record = json.loads(r)\n"
   ]
  },
  {
   "cell_type": "code",
   "execution_count": 92,
   "id": "b06ada26",
   "metadata": {},
   "outputs": [
    {
     "data": {
      "text/plain": [
       "{'1001': {'name': 'Choco Cake', 'pr': 200, 'qn': 100, 'e_date': '01/09/2021'},\n",
       " '1002': {'name': 'Milk Cake', 'pr': 800, 'qn': 100, 'e_date': '01/09/2021'},\n",
       " '1003': {'name': 'Drink', 'pr': 100, 'qn': 100, 'e_date': '01/09/2021'},\n",
       " '1004': {'name': 'Candy', 'pr': 20, 'qn': 1000, 'e_date': '01/09/2021'},\n",
       " '1005': {'name': 'Laptop', 'pr': 50000, 'qn': 100, 'e_date': '01/09/2021'},\n",
       " '1006': {'name': 'Phone', 'pr': 50000, 'qn': 100, 'e_date': '01/09/2021'},\n",
       " '1007': {'name': 'Mic', 'pr': 1500, 'qn': 50, 'e_date': '01/09/2021'},\n",
       " '1008': {'name': 'Case', 'pr': 599, 'qn': 50, 'e_date': '01/09/2021'},\n",
       " '1009': {'name': 'Keyboard', 'pr': 1999, 'qn': 10, 'e_date': '01/09/2021'},\n",
       " '1010': {'name': 'Camera', 'pr': 10000, 'qn': 100, 'e_date': '01/09/2021'},\n",
       " '1011': {'name': 'Dairy', 'pr': 100, 'qn': 100, 'e_date': '01/09/2021'},\n",
       " '1012': {'name': 'Notebook', 'pr': 100, 'qn': 100, 'e_date': '01/09/2021'},\n",
       " '1013': {'name': 'Bag', 'pr': 500, 'qn': 100, 'e_date': '01/09/2021'},\n",
       " '1014': {'name': 'Pen', 'pr': 20, 'qn': 100, 'e_date': '01/09/2021'},\n",
       " '1015': {'name': 'Paint', 'pr': 200, 'qn': 100, 'e_date': '01/09/2021'},\n",
       " '1016': {'name': 'Brush', 'pr': 50, 'qn': 100, 'e_date': '01/09/2021'},\n",
       " '1017': {'name': 'Headset', 'pr': 1500, 'qn': 100, 'e_date': '01/09/2021'},\n",
       " '1018': {'name': 'Almonds', 'pr': 599, 'qn': 10, 'e_date': '01/09/2021'},\n",
       " '1019': {'name': 'Cashew', 'pr': 1999, 'qn': 10, 'e_date': '01/09/2021'},\n",
       " '1020': {'name': 'Peanuts', 'pr': 1999, 'qn': 10, 'e_date': '01/09/2021'},\n",
       " '1021': {'name': 'Balloon ', 'pr': 100, 'qn': 100, 'e_date': '01/09/2021'},\n",
       " '1022': {'name': 'Novel', 'pr': 500, 'qn': 100, 'e_date': '01/09/2021'},\n",
       " '1023': {'name': 'Sweets', 'pr': 500, 'qn': 100, 'e_date': '01/09/2021'},\n",
       " '1024': {'name': 'Deo', 'pr': 200, 'qn': 100, 'e_date': '01/09/2021'},\n",
       " '1025': {'name': 'Table', 'pr': 2000, 'qn': 100, 'e_date': '01/09/2021'},\n",
       " '1026': {'name': 'Chairs', 'pr': 500, 'qn': 100, 'e_date': '01/09/2021'},\n",
       " '1027': {'name': 'Bottle', 'pr': 150, 'qn': 100, 'e_date': '01/09/2021'},\n",
       " '1028': {'name': 'Basket', 'pr': 199, 'qn': 100, 'e_date': '01/09/2021'},\n",
       " '1029': {'name': 'Mask', 'pr': 100, 'qn': 100, 'e_date': '01/09/2021'},\n",
       " '1030': {'name': 'Rope', 'pr': 199, 'qn': 98, 'e_date': '01/09/2021'}}"
      ]
     },
     "execution_count": 92,
     "metadata": {},
     "output_type": "execute_result"
    }
   ],
   "source": [
    "record"
   ]
  },
  {
   "cell_type": "markdown",
   "id": "d53ae390",
   "metadata": {},
   "source": [
    "# Add New Item into Inventory"
   ]
  },
  {
   "cell_type": "code",
   "execution_count": 94,
   "id": "ed409324",
   "metadata": {},
   "outputs": [
    {
     "name": "stdout",
     "output_type": "stream",
     "text": [
      "Enter product id:1031\n",
      "Enter name:fan\n",
      "Enter price:1500\n",
      "Enter quantity:20\n"
     ]
    }
   ],
   "source": [
    "prod_id = str(input(\"Enter product id:\"))\n",
    "name = str(input(\"Enter name:\"))\n",
    "pr = int(input(\"Enter price:\"))\n",
    "qn = int(input(\"Enter quantity:\"))\n",
    "\n",
    "record[prod_id] = {'name': name, 'pr': pr, 'qn': qn}\n",
    "\n",
    "js = json.dumps(record)\n",
    "\n",
    "fd = open(\"record.json\",'w')\n",
    "fd.write(js)\n",
    "fd.close()"
   ]
  },
  {
   "cell_type": "code",
   "execution_count": 95,
   "id": "e8339beb",
   "metadata": {},
   "outputs": [
    {
     "data": {
      "text/plain": [
       "{'1001': {'name': 'Choco Cake', 'pr': 200, 'qn': 100, 'e_date': '01/09/2021'},\n",
       " '1002': {'name': 'Milk Cake', 'pr': 800, 'qn': 100, 'e_date': '01/09/2021'},\n",
       " '1003': {'name': 'Drink', 'pr': 100, 'qn': 100, 'e_date': '01/09/2021'},\n",
       " '1004': {'name': 'Candy', 'pr': 20, 'qn': 1000, 'e_date': '01/09/2021'},\n",
       " '1005': {'name': 'Laptop', 'pr': 50000, 'qn': 100, 'e_date': '01/09/2021'},\n",
       " '1006': {'name': 'Phone', 'pr': 50000, 'qn': 100, 'e_date': '01/09/2021'},\n",
       " '1007': {'name': 'Mic', 'pr': 1500, 'qn': 50, 'e_date': '01/09/2021'},\n",
       " '1008': {'name': 'Case', 'pr': 599, 'qn': 50, 'e_date': '01/09/2021'},\n",
       " '1009': {'name': 'Keyboard', 'pr': 1999, 'qn': 10, 'e_date': '01/09/2021'},\n",
       " '1010': {'name': 'Camera', 'pr': 10000, 'qn': 100, 'e_date': '01/09/2021'},\n",
       " '1011': {'name': 'Dairy', 'pr': 100, 'qn': 100, 'e_date': '01/09/2021'},\n",
       " '1012': {'name': 'Notebook', 'pr': 100, 'qn': 100, 'e_date': '01/09/2021'},\n",
       " '1013': {'name': 'Bag', 'pr': 500, 'qn': 100, 'e_date': '01/09/2021'},\n",
       " '1014': {'name': 'Pen', 'pr': 20, 'qn': 100, 'e_date': '01/09/2021'},\n",
       " '1015': {'name': 'Paint', 'pr': 200, 'qn': 100, 'e_date': '01/09/2021'},\n",
       " '1016': {'name': 'Brush', 'pr': 50, 'qn': 100, 'e_date': '01/09/2021'},\n",
       " '1017': {'name': 'Headset', 'pr': 1500, 'qn': 100, 'e_date': '01/09/2021'},\n",
       " '1018': {'name': 'Almonds', 'pr': 599, 'qn': 10, 'e_date': '01/09/2021'},\n",
       " '1019': {'name': 'Cashew', 'pr': 1999, 'qn': 10, 'e_date': '01/09/2021'},\n",
       " '1020': {'name': 'Peanuts', 'pr': 1999, 'qn': 10, 'e_date': '01/09/2021'},\n",
       " '1021': {'name': 'Balloon ', 'pr': 100, 'qn': 100, 'e_date': '01/09/2021'},\n",
       " '1022': {'name': 'Novel', 'pr': 500, 'qn': 100, 'e_date': '01/09/2021'},\n",
       " '1023': {'name': 'Sweets', 'pr': 500, 'qn': 100, 'e_date': '01/09/2021'},\n",
       " '1024': {'name': 'Deo', 'pr': 200, 'qn': 100, 'e_date': '01/09/2021'},\n",
       " '1025': {'name': 'Table', 'pr': 2000, 'qn': 100, 'e_date': '01/09/2021'},\n",
       " '1026': {'name': 'Chairs', 'pr': 500, 'qn': 100, 'e_date': '01/09/2021'},\n",
       " '1027': {'name': 'Bottle', 'pr': 150, 'qn': 100, 'e_date': '01/09/2021'},\n",
       " '1028': {'name': 'Basket', 'pr': 199, 'qn': 100, 'e_date': '01/09/2021'},\n",
       " '1029': {'name': 'Mask', 'pr': 100, 'qn': 100, 'e_date': '01/09/2021'},\n",
       " '1030': {'name': 'Rope', 'pr': 199, 'qn': 98, 'e_date': '01/09/2021'},\n",
       " '1031': {'name': 'fan', 'pr': 1500, 'qn': 20}}"
      ]
     },
     "execution_count": 95,
     "metadata": {},
     "output_type": "execute_result"
    }
   ],
   "source": [
    "record\n"
   ]
  },
  {
   "cell_type": "markdown",
   "id": "0bef78b1",
   "metadata": {},
   "source": [
    "# Delete item"
   ]
  },
  {
   "cell_type": "code",
   "execution_count": 96,
   "id": "81b0cce6",
   "metadata": {},
   "outputs": [],
   "source": [
    "del record['1031']"
   ]
  },
  {
   "cell_type": "code",
   "execution_count": 97,
   "id": "582a4056",
   "metadata": {},
   "outputs": [
    {
     "data": {
      "text/plain": [
       "{'1001': {'name': 'Choco Cake', 'pr': 200, 'qn': 100, 'e_date': '01/09/2021'},\n",
       " '1002': {'name': 'Milk Cake', 'pr': 800, 'qn': 100, 'e_date': '01/09/2021'},\n",
       " '1003': {'name': 'Drink', 'pr': 100, 'qn': 100, 'e_date': '01/09/2021'},\n",
       " '1004': {'name': 'Candy', 'pr': 20, 'qn': 1000, 'e_date': '01/09/2021'},\n",
       " '1005': {'name': 'Laptop', 'pr': 50000, 'qn': 100, 'e_date': '01/09/2021'},\n",
       " '1006': {'name': 'Phone', 'pr': 50000, 'qn': 100, 'e_date': '01/09/2021'},\n",
       " '1007': {'name': 'Mic', 'pr': 1500, 'qn': 50, 'e_date': '01/09/2021'},\n",
       " '1008': {'name': 'Case', 'pr': 599, 'qn': 50, 'e_date': '01/09/2021'},\n",
       " '1009': {'name': 'Keyboard', 'pr': 1999, 'qn': 10, 'e_date': '01/09/2021'},\n",
       " '1010': {'name': 'Camera', 'pr': 10000, 'qn': 100, 'e_date': '01/09/2021'},\n",
       " '1011': {'name': 'Dairy', 'pr': 100, 'qn': 100, 'e_date': '01/09/2021'},\n",
       " '1012': {'name': 'Notebook', 'pr': 100, 'qn': 100, 'e_date': '01/09/2021'},\n",
       " '1013': {'name': 'Bag', 'pr': 500, 'qn': 100, 'e_date': '01/09/2021'},\n",
       " '1014': {'name': 'Pen', 'pr': 20, 'qn': 100, 'e_date': '01/09/2021'},\n",
       " '1015': {'name': 'Paint', 'pr': 200, 'qn': 100, 'e_date': '01/09/2021'},\n",
       " '1016': {'name': 'Brush', 'pr': 50, 'qn': 100, 'e_date': '01/09/2021'},\n",
       " '1017': {'name': 'Headset', 'pr': 1500, 'qn': 100, 'e_date': '01/09/2021'},\n",
       " '1018': {'name': 'Almonds', 'pr': 599, 'qn': 10, 'e_date': '01/09/2021'},\n",
       " '1019': {'name': 'Cashew', 'pr': 1999, 'qn': 10, 'e_date': '01/09/2021'},\n",
       " '1020': {'name': 'Peanuts', 'pr': 1999, 'qn': 10, 'e_date': '01/09/2021'},\n",
       " '1021': {'name': 'Balloon ', 'pr': 100, 'qn': 100, 'e_date': '01/09/2021'},\n",
       " '1022': {'name': 'Novel', 'pr': 500, 'qn': 100, 'e_date': '01/09/2021'},\n",
       " '1023': {'name': 'Sweets', 'pr': 500, 'qn': 100, 'e_date': '01/09/2021'},\n",
       " '1024': {'name': 'Deo', 'pr': 200, 'qn': 100, 'e_date': '01/09/2021'},\n",
       " '1025': {'name': 'Table', 'pr': 2000, 'qn': 100, 'e_date': '01/09/2021'},\n",
       " '1026': {'name': 'Chairs', 'pr': 500, 'qn': 100, 'e_date': '01/09/2021'},\n",
       " '1027': {'name': 'Bottle', 'pr': 150, 'qn': 100, 'e_date': '01/09/2021'},\n",
       " '1028': {'name': 'Basket', 'pr': 199, 'qn': 100, 'e_date': '01/09/2021'},\n",
       " '1029': {'name': 'Mask', 'pr': 100, 'qn': 100, 'e_date': '01/09/2021'},\n",
       " '1030': {'name': 'Rope', 'pr': 199, 'qn': 98, 'e_date': '01/09/2021'}}"
      ]
     },
     "execution_count": 97,
     "metadata": {},
     "output_type": "execute_result"
    }
   ],
   "source": [
    "record"
   ]
  },
  {
   "cell_type": "code",
   "execution_count": null,
   "id": "4c740f70",
   "metadata": {},
   "outputs": [],
   "source": []
  }
 ],
 "metadata": {
  "kernelspec": {
   "display_name": "Python 3",
   "language": "python",
   "name": "python3"
  },
  "language_info": {
   "codemirror_mode": {
    "name": "ipython",
    "version": 3
   },
   "file_extension": ".py",
   "mimetype": "text/x-python",
   "name": "python",
   "nbconvert_exporter": "python",
   "pygments_lexer": "ipython3",
   "version": "3.8.8"
  }
 },
 "nbformat": 4,
 "nbformat_minor": 5
}
