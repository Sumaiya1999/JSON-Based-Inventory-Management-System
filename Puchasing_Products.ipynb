{
 "cells": [
  {
   "cell_type": "code",
   "execution_count": 2,
   "id": "231020d2",
   "metadata": {},
   "outputs": [],
   "source": [
    "import json\n",
    "\n",
    "fd = open(\"data.json\",'r')\n",
    "r = fd.read()\n",
    "fd.close()\n",
    "\n",
    "records = json.loads(r)"
   ]
  },
  {
   "cell_type": "code",
   "execution_count": 3,
   "id": "c034c463",
   "metadata": {},
   "outputs": [
    {
     "data": {
      "text/plain": [
       "{'1001': {'name': 'Choco Cake', 'pr': 200, 'qn': 100, 'e_date': '01/09/2021'},\n",
       " '1002': {'name': 'Milk Cake', 'pr': 800, 'qn': 100, 'e_date': '01/09/2021'},\n",
       " '1003': {'name': 'Drink', 'pr': 100, 'qn': 100, 'e_date': '01/09/2021'},\n",
       " '1004': {'name': 'Candy', 'pr': 20, 'qn': 1000, 'e_date': '01/09/2021'},\n",
       " '1005': {'name': 'Laptop', 'pr': 50000, 'qn': 100, 'e_date': '01/09/2021'},\n",
       " '1006': {'name': 'Phone', 'pr': 50000, 'qn': 100, 'e_date': '01/09/2021'},\n",
       " '1007': {'name': 'Mic', 'pr': 1500, 'qn': 50, 'e_date': '01/09/2021'},\n",
       " '1008': {'name': 'Case', 'pr': 599, 'qn': 50, 'e_date': '01/09/2021'},\n",
       " '1009': {'name': 'Keyboard', 'pr': 1999, 'qn': 10, 'e_date': '01/09/2021'},\n",
       " '1010': {'name': 'Camera', 'pr': 10000, 'qn': 100, 'e_date': '01/09/2021'},\n",
       " '1011': {'name': 'Dairy', 'pr': 100, 'qn': 100, 'e_date': '01/09/2021'},\n",
       " '1012': {'name': 'Notebook', 'pr': 100, 'qn': 100, 'e_date': '01/09/2021'},\n",
       " '1013': {'name': 'Bag', 'pr': 500, 'qn': 100, 'e_date': '01/09/2021'},\n",
       " '1014': {'name': 'Pen', 'pr': 20, 'qn': 100, 'e_date': '01/09/2021'},\n",
       " '1015': {'name': 'Paint', 'pr': 200, 'qn': 100, 'e_date': '01/09/2021'},\n",
       " '1016': {'name': 'Brush', 'pr': 50, 'qn': 100, 'e_date': '01/09/2021'},\n",
       " '1017': {'name': 'Headset', 'pr': 1500, 'qn': 100, 'e_date': '01/09/2021'},\n",
       " '1018': {'name': 'Almonds', 'pr': 599, 'qn': 10, 'e_date': '01/09/2021'},\n",
       " '1019': {'name': 'Cashew', 'pr': 1999, 'qn': 10, 'e_date': '01/09/2021'},\n",
       " '1020': {'name': 'Peanuts', 'pr': 1999, 'qn': 10, 'e_date': '01/09/2021'},\n",
       " '1021': {'name': 'Balloon ', 'pr': 100, 'qn': 100, 'e_date': '01/09/2021'},\n",
       " '1022': {'name': 'Novel', 'pr': 500, 'qn': 100, 'e_date': '01/09/2021'},\n",
       " '1023': {'name': 'Sweets', 'pr': 500, 'qn': 100, 'e_date': '01/09/2021'},\n",
       " '1024': {'name': 'Deo', 'pr': 200, 'qn': 100, 'e_date': '01/09/2021'},\n",
       " '1025': {'name': 'Table', 'pr': 2000, 'qn': 100, 'e_date': '01/09/2021'},\n",
       " '1026': {'name': 'Chairs', 'pr': 500, 'qn': 100, 'e_date': '01/09/2021'},\n",
       " '1027': {'name': 'Bottle', 'pr': 150, 'qn': 100, 'e_date': '01/09/2021'},\n",
       " '1028': {'name': 'Basket', 'pr': 199, 'qn': 100, 'e_date': '01/09/2021'},\n",
       " '1029': {'name': 'Mask', 'pr': 100, 'qn': 100, 'e_date': '01/09/2021'},\n",
       " '1030': {'name': 'Rope', 'pr': 199, 'qn': 98, 'e_date': '01/09/2021'},\n",
       " '1031': {'name': 'fan', 'pr': 1500, 'qn': 15}}"
      ]
     },
     "execution_count": 3,
     "metadata": {},
     "output_type": "execute_result"
    }
   ],
   "source": [
    "records"
   ]
  },
  {
   "cell_type": "markdown",
   "id": "8500a5df",
   "metadata": {},
   "source": [
    "# Purchase item"
   ]
  },
  {
   "cell_type": "code",
   "execution_count": 4,
   "id": "52563333",
   "metadata": {},
   "outputs": [
    {
     "name": "stdout",
     "output_type": "stream",
     "text": [
      "Enter the product_Id: 1029\n",
      "Enter the quantity: 10\n",
      "Product:  Mask\n",
      "Price:  100\n",
      "Billing Amount:  1000\n"
     ]
    }
   ],
   "source": [
    "ui_prod  = str(input(\"Enter the product_Id: \"))\n",
    "ui_quant = int(input(\"Enter the quantity: \"))\n",
    "\n",
    "\n",
    "print(\"Product: \", records[ui_prod]['name'])\n",
    "print(\"Price: \", records[ui_prod]['pr'])\n",
    "print(\"Billing Amount: \", records[ui_prod]['pr'] * ui_quant)\n",
    "\n",
    "records[ui_prod]['qn'] = records[ui_prod]['qn'] - ui_quant\n"
   ]
  },
  {
   "cell_type": "markdown",
   "id": "df90193e",
   "metadata": {},
   "source": [
    "### Update Inventory after purchase"
   ]
  },
  {
   "cell_type": "code",
   "execution_count": 5,
   "id": "ccac56d9",
   "metadata": {},
   "outputs": [],
   "source": [
    "js = json.dumps(records)\n",
    "\n",
    "fd = open(\"data.json\",'w')\n",
    "fd.write(js)\n",
    "fd.close()"
   ]
  },
  {
   "cell_type": "code",
   "execution_count": 6,
   "id": "20be0bcc",
   "metadata": {},
   "outputs": [
    {
     "data": {
      "text/plain": [
       "{'1001': {'name': 'Choco Cake', 'pr': 200, 'qn': 100, 'e_date': '01/09/2021'},\n",
       " '1002': {'name': 'Milk Cake', 'pr': 800, 'qn': 100, 'e_date': '01/09/2021'},\n",
       " '1003': {'name': 'Drink', 'pr': 100, 'qn': 100, 'e_date': '01/09/2021'},\n",
       " '1004': {'name': 'Candy', 'pr': 20, 'qn': 1000, 'e_date': '01/09/2021'},\n",
       " '1005': {'name': 'Laptop', 'pr': 50000, 'qn': 100, 'e_date': '01/09/2021'},\n",
       " '1006': {'name': 'Phone', 'pr': 50000, 'qn': 100, 'e_date': '01/09/2021'},\n",
       " '1007': {'name': 'Mic', 'pr': 1500, 'qn': 50, 'e_date': '01/09/2021'},\n",
       " '1008': {'name': 'Case', 'pr': 599, 'qn': 50, 'e_date': '01/09/2021'},\n",
       " '1009': {'name': 'Keyboard', 'pr': 1999, 'qn': 10, 'e_date': '01/09/2021'},\n",
       " '1010': {'name': 'Camera', 'pr': 10000, 'qn': 100, 'e_date': '01/09/2021'},\n",
       " '1011': {'name': 'Dairy', 'pr': 100, 'qn': 100, 'e_date': '01/09/2021'},\n",
       " '1012': {'name': 'Notebook', 'pr': 100, 'qn': 100, 'e_date': '01/09/2021'},\n",
       " '1013': {'name': 'Bag', 'pr': 500, 'qn': 100, 'e_date': '01/09/2021'},\n",
       " '1014': {'name': 'Pen', 'pr': 20, 'qn': 100, 'e_date': '01/09/2021'},\n",
       " '1015': {'name': 'Paint', 'pr': 200, 'qn': 100, 'e_date': '01/09/2021'},\n",
       " '1016': {'name': 'Brush', 'pr': 50, 'qn': 100, 'e_date': '01/09/2021'},\n",
       " '1017': {'name': 'Headset', 'pr': 1500, 'qn': 100, 'e_date': '01/09/2021'},\n",
       " '1018': {'name': 'Almonds', 'pr': 599, 'qn': 10, 'e_date': '01/09/2021'},\n",
       " '1019': {'name': 'Cashew', 'pr': 1999, 'qn': 10, 'e_date': '01/09/2021'},\n",
       " '1020': {'name': 'Peanuts', 'pr': 1999, 'qn': 10, 'e_date': '01/09/2021'},\n",
       " '1021': {'name': 'Balloon ', 'pr': 100, 'qn': 100, 'e_date': '01/09/2021'},\n",
       " '1022': {'name': 'Novel', 'pr': 500, 'qn': 100, 'e_date': '01/09/2021'},\n",
       " '1023': {'name': 'Sweets', 'pr': 500, 'qn': 100, 'e_date': '01/09/2021'},\n",
       " '1024': {'name': 'Deo', 'pr': 200, 'qn': 100, 'e_date': '01/09/2021'},\n",
       " '1025': {'name': 'Table', 'pr': 2000, 'qn': 100, 'e_date': '01/09/2021'},\n",
       " '1026': {'name': 'Chairs', 'pr': 500, 'qn': 100, 'e_date': '01/09/2021'},\n",
       " '1027': {'name': 'Bottle', 'pr': 150, 'qn': 100, 'e_date': '01/09/2021'},\n",
       " '1028': {'name': 'Basket', 'pr': 199, 'qn': 100, 'e_date': '01/09/2021'},\n",
       " '1029': {'name': 'Mask', 'pr': 100, 'qn': 90, 'e_date': '01/09/2021'},\n",
       " '1030': {'name': 'Rope', 'pr': 199, 'qn': 98, 'e_date': '01/09/2021'},\n",
       " '1031': {'name': 'fan', 'pr': 1500, 'qn': 15}}"
      ]
     },
     "execution_count": 6,
     "metadata": {},
     "output_type": "execute_result"
    }
   ],
   "source": [
    "records"
   ]
  },
  {
   "cell_type": "markdown",
   "id": "cda4ea47",
   "metadata": {},
   "source": [
    "# Sales json"
   ]
  },
  {
   "cell_type": "code",
   "execution_count": 7,
   "id": "06666e57",
   "metadata": {},
   "outputs": [
    {
     "data": {
      "text/plain": [
       "{'1': {'name': 'Choco Cake', 'pr': 200, 'qn': 100, 'e_date': '01/09/2021'},\n",
       " '2': {'prod': '1031',\n",
       "  'qn': 5,\n",
       "  'amount': 7500,\n",
       "  'Billing Amount': 7500,\n",
       "  'time': 'Mon Sep  6 14:40:11 2021'},\n",
       " '3': {'prod': '1031',\n",
       "  'qn': 5,\n",
       "  'amount': 7500,\n",
       "  'Billing Amount': 7500,\n",
       "  'time': 'Mon Sep  6 14:40:55 2021'}}"
      ]
     },
     "execution_count": 7,
     "metadata": {},
     "output_type": "execute_result"
    }
   ],
   "source": [
    "f = open(\"sales.json\",\"r\")\n",
    "r = f.read()\n",
    "l = json.loads(r)\n",
    "l"
   ]
  },
  {
   "cell_type": "code",
   "execution_count": 8,
   "id": "93a2a85a",
   "metadata": {},
   "outputs": [],
   "source": [
    "import time as t\n",
    "\n",
    "time = t.ctime()\n",
    "l[len(l)+1] = {'prod' : ui_prod, 'qn' : ui_quant, 'amount': records[ui_prod]['pr'] * ui_quant, \"Billing Amount\": records[ui_prod]['pr'] * ui_quant  ,'time': time}\n"
   ]
  },
  {
   "cell_type": "code",
   "execution_count": 9,
   "id": "6870942b",
   "metadata": {},
   "outputs": [],
   "source": [
    "sale = json.dumps(l)\n",
    "f = open(\"sales.json\",\"w\")\n",
    "f.write(sale)\n",
    "f.close()"
   ]
  },
  {
   "cell_type": "code",
   "execution_count": 10,
   "id": "7b1f02db",
   "metadata": {},
   "outputs": [
    {
     "data": {
      "text/plain": [
       "'{\"1\": {\"name\": \"Choco Cake\", \"pr\": 200, \"qn\": 100, \"e_date\": \"01/09/2021\"}, \"2\": {\"prod\": \"1031\", \"qn\": 5, \"amount\": 7500, \"Billing Amount\": 7500, \"time\": \"Mon Sep  6 14:40:11 2021\"}, \"3\": {\"prod\": \"1031\", \"qn\": 5, \"amount\": 7500, \"Billing Amount\": 7500, \"time\": \"Mon Sep  6 14:40:55 2021\"}, \"4\": {\"prod\": \"1029\", \"qn\": 10, \"amount\": 1000, \"Billing Amount\": 1000, \"time\": \"Mon Sep  6 14:51:35 2021\"}}'"
      ]
     },
     "execution_count": 10,
     "metadata": {},
     "output_type": "execute_result"
    }
   ],
   "source": [
    "sale"
   ]
  },
  {
   "cell_type": "code",
   "execution_count": null,
   "id": "a6a8730f",
   "metadata": {},
   "outputs": [],
   "source": []
  }
 ],
 "metadata": {
  "kernelspec": {
   "display_name": "Python 3",
   "language": "python",
   "name": "python3"
  },
  "language_info": {
   "codemirror_mode": {
    "name": "ipython",
    "version": 3
   },
   "file_extension": ".py",
   "mimetype": "text/x-python",
   "name": "python",
   "nbconvert_exporter": "python",
   "pygments_lexer": "ipython3",
   "version": "3.8.8"
  }
 },
 "nbformat": 4,
 "nbformat_minor": 5
}
